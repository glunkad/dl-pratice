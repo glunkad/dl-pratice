{
  "nbformat": 4,
  "nbformat_minor": 0,
  "metadata": {
    "colab": {
      "provenance": []
    },
    "kernelspec": {
      "name": "python3",
      "display_name": "Python 3"
    },
    "language_info": {
      "name": "python"
    },
    "accelerator": "GPU",
    "gpuClass": "standard"
  },
  "cells": [
    {
      "cell_type": "markdown",
      "source": [
        "# Setup"
      ],
      "metadata": {
        "id": "xsvu6NxUKkl7"
      }
    },
    {
      "cell_type": "code",
      "source": [
        "name='template'"
      ],
      "metadata": {
        "id": "tzHY-ZRXct0t"
      },
      "execution_count": 1,
      "outputs": []
    },
    {
      "cell_type": "code",
      "execution_count": 2,
      "metadata": {
        "id": "TvPmBmesJknF"
      },
      "outputs": [],
      "source": [
        "try:import fastkaggle\n",
        "except ModuleNotFoundError:\n",
        "    !pip install -q fastkaggle \n",
        "from fastkaggle import * "
      ]
    },
    {
      "cell_type": "code",
      "source": [
        "comp='titanic'\n",
        "if not iskaggle:\n",
        "    !cp kaggle.json ~/.kaggle/kaggle.json \n",
        "    !chmod 600 ~/.kaggle/kaggle.json \n",
        "\n",
        "path=setup_comp(comp)"
      ],
      "metadata": {
        "colab": {
          "base_uri": "https://localhost:8080/"
        },
        "id": "eJjkFjbzKKyM",
        "outputId": "c400e4f1-e5dc-437e-a518-fd3c771b7da9"
      },
      "execution_count": 4,
      "outputs": [
        {
          "output_type": "stream",
          "name": "stdout",
          "text": [
            "Downloading titanic.zip to /content\n"
          ]
        },
        {
          "output_type": "stream",
          "name": "stderr",
          "text": [
            "100%|██████████| 34.1k/34.1k [00:00<00:00, 15.0MB/s]"
          ]
        },
        {
          "output_type": "stream",
          "name": "stdout",
          "text": [
            "\n"
          ]
        },
        {
          "output_type": "stream",
          "name": "stderr",
          "text": [
            "\n"
          ]
        }
      ]
    },
    {
      "cell_type": "markdown",
      "source": [
        "# Submission"
      ],
      "metadata": {
        "id": "Pfz8TsBKcWbl"
      }
    },
    {
      "cell_type": "code",
      "source": [
        "if not iskaggle:\n",
        "    from kaggle import api\n",
        "    api.competition_submit_cli('sub.csv', 'some text', comp)"
      ],
      "metadata": {
        "id": "oRX_awNDcljS"
      },
      "execution_count": null,
      "outputs": []
    },
    {
      "cell_type": "code",
      "source": [
        "%notebook -e {name}.ipynb"
      ],
      "metadata": {
        "id": "9SYnj6APcWNp"
      },
      "execution_count": 7,
      "outputs": []
    },
    {
      "cell_type": "code",
      "source": [
        "if not iskaggle:\n",
        "    push_notebook(\n",
        "        glunkad,'some-title',\n",
        "        notebook.ipynb,'Some-title',\n",
        "        gpu=True, competition=comp,internet=True,private=False\n",
        "    "
      ],
      "metadata": {
        "id": "621sd4SsdE4O"
      },
      "execution_count": null,
      "outputs": []
    },
    {
      "cell_type": "markdown",
      "source": [
        "# Github"
      ],
      "metadata": {
        "id": "ynugmrWNK5u9"
      }
    },
    {
      "cell_type": "code",
      "source": [
        "import json\n",
        "key,user = '','' \n",
        "data = dict()\n",
        "with open('git.json') as f:\n",
        "    data = json.load(f)\n",
        "git_token = data['key']\n",
        "username = data['username']\n",
        "repository='dl-pratice'\n"
      ],
      "metadata": {
        "id": "iTbwBQ9SKysy"
      },
      "execution_count": 18,
      "outputs": []
    },
    {
      "cell_type": "code",
      "source": [
        "!git init"
      ],
      "metadata": {
        "colab": {
          "base_uri": "https://localhost:8080/"
        },
        "id": "b43semaea1ev",
        "outputId": "d0803807-602f-457f-dd13-3104a696cc69"
      },
      "execution_count": 8,
      "outputs": [
        {
          "output_type": "stream",
          "name": "stdout",
          "text": [
            "Initialized empty Git repository in /content/.git/\n"
          ]
        }
      ]
    },
    {
      "cell_type": "code",
      "source": [
        "!git add {name}.ipynb"
      ],
      "metadata": {
        "id": "EAYs8jfpeKbj"
      },
      "execution_count": 12,
      "outputs": []
    },
    {
      "cell_type": "code",
      "source": [
        "!git commit -m \"first commit\" "
      ],
      "metadata": {
        "colab": {
          "base_uri": "https://localhost:8080/"
        },
        "id": "ZuVhfAwPd4FR",
        "outputId": "94096533-0daf-49e4-a2d5-fe9ee1978e31"
      },
      "execution_count": 13,
      "outputs": [
        {
          "output_type": "stream",
          "name": "stdout",
          "text": [
            "[master (root-commit) 1d52d8c] first commit\n",
            " 1 file changed, 86 insertions(+)\n",
            " create mode 100644 template.ipynb\n"
          ]
        }
      ]
    },
    {
      "cell_type": "code",
      "source": [
        "!git branch -M main"
      ],
      "metadata": {
        "id": "ZKAobCfqfKGe"
      },
      "execution_count": 14,
      "outputs": []
    },
    {
      "cell_type": "code",
      "source": [
        "!git remote add origin https://{git_token}@github.com/{username}/{repository}.git"
      ],
      "metadata": {
        "colab": {
          "base_uri": "https://localhost:8080/"
        },
        "id": "P6f2tcwIfZpG",
        "outputId": "c90cf85a-2faf-4521-a61c-71a54c28044a"
      },
      "execution_count": 20,
      "outputs": [
        {
          "output_type": "stream",
          "name": "stdout",
          "text": [
            "fatal: remote origin already exists.\n"
          ]
        }
      ]
    },
    {
      "cell_type": "code",
      "source": [
        "!git push -u origin main"
      ],
      "metadata": {
        "colab": {
          "base_uri": "https://localhost:8080/"
        },
        "id": "qMC53umngY2D",
        "outputId": "ba46612f-d4f1-4ad9-f8b0-e94e2a98f816"
      },
      "execution_count": 21,
      "outputs": [
        {
          "output_type": "stream",
          "name": "stdout",
          "text": [
            "fatal: could not read Username for 'https://github.com': No such device or address\n"
          ]
        }
      ]
    },
    {
      "cell_type": "code",
      "source": [
        "!git config user.email \"glunkad007@gmail.com\"\n",
        "!git config user.name \"glunkad\""
      ],
      "metadata": {
        "id": "sELSQZawd9j-"
      },
      "execution_count": 10,
      "outputs": []
    },
    {
      "cell_type": "code",
      "source": [],
      "metadata": {
        "id": "Vqdt3caieHJ9"
      },
      "execution_count": null,
      "outputs": []
    }
  ]
}